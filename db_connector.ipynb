{
 "cells": [
  {
   "cell_type": "code",
   "execution_count": 17,
   "metadata": {},
   "outputs": [],
   "source": [
    "from sqlalchemy import create_engine\n",
    "import psycopg2 \n",
    "import io\n",
    "import pandas as pd"
   ]
  },
  {
   "cell_type": "code",
   "execution_count": 18,
   "metadata": {},
   "outputs": [],
   "source": [
    "df = pd.read_csv('divert_db.csv')"
   ]
  },
  {
   "cell_type": "code",
   "execution_count": 28,
   "metadata": {},
   "outputs": [],
   "source": [
    "engine = create_engine('postgresql+psycopg2://louisthomasdods:@localhost:5432/pd')\n",
    "\n",
    "df.head(0).to_sql('project_divert_output', engine, if_exists='replace',index=False) #truncates the table\n",
    "\n",
    "conn = engine.raw_connection()\n",
    "cur = conn.cursor()\n",
    "output = io.StringIO()\n",
    "df.to_csv(output, sep='\\t', header=False, index=False)\n",
    "output.seek(0)\n",
    "contents = output.getvalue()\n",
    "cur.copy_from(output, 'project_divert_output', null=\"\") # null values become ''\n",
    "conn.commit()"
   ]
  },
  {
   "cell_type": "code",
   "execution_count": 26,
   "metadata": {},
   "outputs": [],
   "source": [
    "df.reset_index(inplace=True)"
   ]
  },
  {
   "cell_type": "code",
   "execution_count": 27,
   "metadata": {},
   "outputs": [
    {
     "data": {
      "text/html": [
       "<div>\n",
       "<style scoped>\n",
       "    .dataframe tbody tr th:only-of-type {\n",
       "        vertical-align: middle;\n",
       "    }\n",
       "\n",
       "    .dataframe tbody tr th {\n",
       "        vertical-align: top;\n",
       "    }\n",
       "\n",
       "    .dataframe thead th {\n",
       "        text-align: right;\n",
       "    }\n",
       "</style>\n",
       "<table border=\"1\" class=\"dataframe\">\n",
       "  <thead>\n",
       "    <tr style=\"text-align: right;\">\n",
       "      <th></th>\n",
       "      <th>index</th>\n",
       "      <th>site</th>\n",
       "      <th>waste_stream</th>\n",
       "      <th>tonnage</th>\n",
       "      <th>landfill_monetary</th>\n",
       "      <th>landfill_transport_carbon</th>\n",
       "      <th>mrf_monetary</th>\n",
       "      <th>mrf_transport_carbon</th>\n",
       "      <th>mrf_to_reproccesor_monetary</th>\n",
       "      <th>mrf_to_reproccesor_carbon_transport</th>\n",
       "      <th>divert_monetary</th>\n",
       "      <th>divert_transport_carbon</th>\n",
       "    </tr>\n",
       "  </thead>\n",
       "  <tbody>\n",
       "    <tr>\n",
       "      <th>0</th>\n",
       "      <td>0</td>\n",
       "      <td>Interserve Construction Ltd (Paragon div) - 1 ...</td>\n",
       "      <td>sand</td>\n",
       "      <td>6.0</td>\n",
       "      <td>714</td>\n",
       "      <td>9.77</td>\n",
       "      <td>288</td>\n",
       "      <td>9.69</td>\n",
       "      <td>288</td>\n",
       "      <td>11.62</td>\n",
       "      <td>220</td>\n",
       "      <td>10.00</td>\n",
       "    </tr>\n",
       "    <tr>\n",
       "      <th>1</th>\n",
       "      <td>1</td>\n",
       "      <td>ISG- M&amp;S Maidstone Week Street</td>\n",
       "      <td>pallets</td>\n",
       "      <td>2.3</td>\n",
       "      <td>337</td>\n",
       "      <td>5.95</td>\n",
       "      <td>505</td>\n",
       "      <td>16.00</td>\n",
       "      <td>505</td>\n",
       "      <td>19.20</td>\n",
       "      <td>450</td>\n",
       "      <td>17.00</td>\n",
       "    </tr>\n",
       "    <tr>\n",
       "      <th>2</th>\n",
       "      <td>2</td>\n",
       "      <td>ISG- Nationwide Building Society Greenford</td>\n",
       "      <td>carpet tiles</td>\n",
       "      <td>0.2</td>\n",
       "      <td>134</td>\n",
       "      <td>5.00</td>\n",
       "      <td>300</td>\n",
       "      <td>3.80</td>\n",
       "      <td>300</td>\n",
       "      <td>4.56</td>\n",
       "      <td>195</td>\n",
       "      <td>3.00</td>\n",
       "    </tr>\n",
       "    <tr>\n",
       "      <th>3</th>\n",
       "      <td>3</td>\n",
       "      <td>Ambit- Witan Gate House, Milton Keynes</td>\n",
       "      <td>correx</td>\n",
       "      <td>0.9</td>\n",
       "      <td>204</td>\n",
       "      <td>13.00</td>\n",
       "      <td>288</td>\n",
       "      <td>3.00</td>\n",
       "      <td>288</td>\n",
       "      <td>3.60</td>\n",
       "      <td>186</td>\n",
       "      <td>2.89</td>\n",
       "    </tr>\n",
       "  </tbody>\n",
       "</table>\n",
       "</div>"
      ],
      "text/plain": [
       "   index                                               site  waste_stream  \\\n",
       "0      0  Interserve Construction Ltd (Paragon div) - 1 ...          sand   \n",
       "1      1                     ISG- M&S Maidstone Week Street       pallets   \n",
       "2      2         ISG- Nationwide Building Society Greenford  carpet tiles   \n",
       "3      3             Ambit- Witan Gate House, Milton Keynes        correx   \n",
       "\n",
       "   tonnage  landfill_monetary  landfill_transport_carbon  mrf_monetary  \\\n",
       "0      6.0                714                       9.77           288   \n",
       "1      2.3                337                       5.95           505   \n",
       "2      0.2                134                       5.00           300   \n",
       "3      0.9                204                      13.00           288   \n",
       "\n",
       "   mrf_transport_carbon  mrf_to_reproccesor_monetary  \\\n",
       "0                  9.69                          288   \n",
       "1                 16.00                          505   \n",
       "2                  3.80                          300   \n",
       "3                  3.00                          288   \n",
       "\n",
       "   mrf_to_reproccesor_carbon_transport  divert_monetary  \\\n",
       "0                                11.62              220   \n",
       "1                                19.20              450   \n",
       "2                                 4.56              195   \n",
       "3                                 3.60              186   \n",
       "\n",
       "   divert_transport_carbon  \n",
       "0                    10.00  \n",
       "1                    17.00  \n",
       "2                     3.00  \n",
       "3                     2.89  "
      ]
     },
     "execution_count": 27,
     "metadata": {},
     "output_type": "execute_result"
    }
   ],
   "source": [
    "df"
   ]
  },
  {
   "cell_type": "code",
   "execution_count": null,
   "metadata": {},
   "outputs": [],
   "source": []
  }
 ],
 "metadata": {
  "kernelspec": {
   "display_name": "Python 3",
   "language": "python",
   "name": "python3"
  },
  "language_info": {
   "codemirror_mode": {
    "name": "ipython",
    "version": 3
   },
   "file_extension": ".py",
   "mimetype": "text/x-python",
   "name": "python",
   "nbconvert_exporter": "python",
   "pygments_lexer": "ipython3",
   "version": "3.8.5"
  }
 },
 "nbformat": 4,
 "nbformat_minor": 4
}
